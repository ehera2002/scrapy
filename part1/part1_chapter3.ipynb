{
 "cells": [
  {
   "cell_type": "code",
   "execution_count": 26,
   "metadata": {
    "collapsed": false
   },
   "outputs": [
    {
     "name": "stdout",
     "output_type": "stream",
     "text": [
      "#mw-head\n",
      "#p-search\n",
      "/wiki/Special:SiteMatrix\n",
      "/wiki/File:Wiktionary-logo-v2.svg\n",
      "https://en.wiktionary.org/wiki/Special:Search/Eric_Id/Kevin_Bacon\n",
      "/wiki/File:Wikibooks-logo.svg\n",
      "https://en.wikibooks.org/wiki/Special:Search/Eric_Id/Kevin_Bacon\n",
      "/wiki/File:Wikiquote-logo.svg\n",
      "https://en.wikiquote.org/wiki/Special:Search/Eric_Id/Kevin_Bacon\n",
      "/wiki/File:Wikisource-logo.svg\n",
      "https://en.wikisource.org/wiki/Special:Search/Eric_Id/Kevin_Bacon\n",
      "/wiki/File:Wikiversity-logo.svg\n",
      "https://en.wikiversity.org/wiki/Special:Search/Eric_Id/Kevin_Bacon\n",
      "/wiki/File:Commons-logo.svg\n",
      "https://commons.wikimedia.org/wiki/Special:Search/Eric_Id/Kevin_Bacon\n",
      "/wiki/File:Wikivoyage-Logo-v3-icon.svg\n",
      "https://en.wikivoyage.org/wiki/Special:Search/Eric_Id/Kevin_Bacon\n",
      "/wiki/File:Wikinews-logo.svg\n",
      "https://en.wikinews.org/wiki/Special:Search/Eric_Id/Kevin_Bacon\n",
      "/wiki/File:Wikidata-logo.svg\n",
      "https://www.wikidata.org/wiki/Special:Search/Eric_Id/Kevin_Bacon\n",
      "//en.wikipedia.org/w/index.php?search=Eric+Id%2FKevin+Bacon&title=Special%3ASearch&fulltext=1\n",
      "//en.wikipedia.org/w/index.php?title=Special:UserLogin&returnto=Eric+Id%2FKevin+Bacon\n",
      "/wiki/Wikipedia:Article_wizard\n",
      "/wiki/Wikipedia:Requested_articles\n",
      "//en.wikipedia.org/w/index.php?search=Eric+Id%2FKevin+Bacon&title=Special%3ASearch&fulltext=1\n",
      "/wiki/Special:WhatLinksHere/Eric_Id/Kevin_Bacon\n",
      "//en.wikipedia.org/w/index.php?title=Eric_Id/Kevin_Bacon&action=purge\n",
      "/wiki/Case_sensitivity\n",
      "//en.wikipedia.org/w/index.php?search=Eric+Id%2FKevin+Bacon&title=Special%3ASearch&fulltext=1\n",
      "/wiki/Wikipedia:Redirect\n",
      "//en.wikipedia.org/w/index.php?title=Special:Log/delete&page=Eric_Id/Kevin_Bacon\n",
      "/wiki/Wikipedia:Why_was_the_page_I_created_deleted%3F\n",
      "https://en.wikipedia.org/wiki/Eric_Id/Kevin_Bacon\n",
      "/wiki/Special:MyTalk\n",
      "/wiki/Special:MyContributions\n",
      "/w/index.php?title=Special:CreateAccount&returnto=Eric+Id%2FKevin+Bacon\n",
      "/w/index.php?title=Special:UserLogin&returnto=Eric+Id%2FKevin+Bacon\n",
      "/w/index.php?title=Eric_Id/Kevin_Bacon&action=edit&redlink=1\n",
      "/w/index.php?title=Talk:Eric_Id/Kevin_Bacon&action=edit&redlink=1\n",
      "#\n",
      "#\n",
      "/wiki/Main_Page\n",
      "/wiki/Main_Page\n",
      "/wiki/Portal:Contents\n",
      "/wiki/Portal:Featured_content\n",
      "/wiki/Portal:Current_events\n",
      "/wiki/Special:Random\n",
      "https://donate.wikimedia.org/wiki/Special:FundraiserRedirector?utm_source=donate&utm_medium=sidebar&utm_campaign=C13_en.wikipedia.org&uselang=en\n",
      "//shop.wikimedia.org\n",
      "/wiki/Help:Contents\n",
      "/wiki/Wikipedia:About\n",
      "/wiki/Wikipedia:Community_portal\n",
      "/wiki/Special:RecentChanges\n",
      "//en.wikipedia.org/wiki/Wikipedia:Contact_us\n",
      "/wiki/Special:WhatLinksHere/Eric_Id/Kevin_Bacon\n",
      "/wiki/Wikipedia:File_Upload_Wizard\n",
      "/wiki/Special:SpecialPages\n",
      "/w/index.php?title=Eric_Id/Kevin_Bacon&action=info\n",
      "https://wikimediafoundation.org/wiki/Privacy_policy\n",
      "/wiki/Wikipedia:About\n",
      "/wiki/Wikipedia:General_disclaimer\n",
      "//en.wikipedia.org/wiki/Wikipedia:Contact_us\n",
      "https://www.mediawiki.org/wiki/Special:MyLanguage/How_to_contribute\n",
      "https://wikimediafoundation.org/wiki/Cookie_statement\n",
      "//en.m.wikipedia.org/w/index.php?title=Eric_Id/Kevin_Bacon&mobileaction=toggle_view_mobile\n",
      "https://wikimediafoundation.org/\n",
      "//www.mediawiki.org/\n"
     ]
    }
   ],
   "source": [
    "from urllib import urlopen\n",
    "from bs4 import BeautifulSoup\n",
    "\n",
    "html = urlopen('https://en.wikipedia.org/wiki/Eric_Id/Kevin_Bacon')\n",
    "bsObj = BeautifulSoup(html,'html.parser')\n",
    "for link in bsObj.findAll('a'):\n",
    "    if 'href' in link.attrs:\n",
    "        print link.attrs['href']"
   ]
  },
  {
   "cell_type": "code",
   "execution_count": 27,
   "metadata": {
    "collapsed": false
   },
   "outputs": [
    {
     "name": "stdout",
     "output_type": "stream",
     "text": [
      "//wikimediafoundation.org/wiki/Privacy_policy\n",
      "//en.wikipedia.org/wiki/Wikipedia:Contact_us\n"
     ]
    }
   ],
   "source": [
    "print '//wikimediafoundation.org/wiki/Privacy_policy'\n",
    "print '//en.wikipedia.org/wiki/Wikipedia:Contact_us'"
   ]
  },
  {
   "cell_type": "code",
   "execution_count": 8,
   "metadata": {
    "collapsed": false
   },
   "outputs": [],
   "source": []
  },
  {
   "cell_type": "code",
   "execution_count": null,
   "metadata": {
    "collapsed": true
   },
   "outputs": [],
   "source": []
  }
 ],
 "metadata": {
  "kernelspec": {
   "display_name": "Python 2",
   "language": "python",
   "name": "python2"
  },
  "language_info": {
   "codemirror_mode": {
    "name": "ipython",
    "version": 2
   },
   "file_extension": ".py",
   "mimetype": "text/x-python",
   "name": "python",
   "nbconvert_exporter": "python",
   "pygments_lexer": "ipython2",
   "version": "2.7.13"
  }
 },
 "nbformat": 4,
 "nbformat_minor": 2
}
