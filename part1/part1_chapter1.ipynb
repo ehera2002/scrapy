{
 "cells": [
  {
   "cell_type": "code",
   "execution_count": 1,
   "metadata": {
    "collapsed": true
   },
   "outputs": [],
   "source": [
    "import requests\n",
    "url = 'http://pythonscraping.com/pages/page1.html'"
   ]
  },
  {
   "cell_type": "code",
   "execution_count": 3,
   "metadata": {
    "collapsed": false
   },
   "outputs": [],
   "source": [
    "import urllib"
   ]
  },
  {
   "cell_type": "code",
   "execution_count": 15,
   "metadata": {
    "collapsed": false
   },
   "outputs": [
    {
     "name": "stdout",
     "output_type": "stream",
     "text": [
      "<html>\n",
      "<head>\n",
      "<title>A Useful Page</title>\n",
      "</head>\n",
      "<body>\n",
      "<h1>An Interesting Title</h1>\n",
      "<div>\n",
      "Lorem ipsum dolor sit amet, consectetur adipisicing elit, sed do eiusmod tempor incididunt ut labore et dolore magna aliqua. Ut enim ad minim veniam, quis nostrud exercitation ullamco laboris nisi ut aliquip ex ea commodo consequat. Duis aute irure dolor in reprehenderit in voluptate velit esse cillum dolore eu fugiat nulla pariatur. Excepteur sint occaecat cupidatat non proident, sunt in culpa qui officia deserunt mollit anim id est laborum.\n",
      "</div>\n",
      "</body>\n",
      "</html>\n",
      "\n"
     ]
    }
   ],
   "source": [
    "html = urllib.urlopen(url)\n",
    "print html.read()"
   ]
  },
  {
   "cell_type": "code",
   "execution_count": 6,
   "metadata": {
    "collapsed": false
   },
   "outputs": [
    {
     "name": "stdout",
     "output_type": "stream",
     "text": [
      "<type 'str'>\n"
     ]
    }
   ],
   "source": [
    "print type(html.read())"
   ]
  },
  {
   "cell_type": "code",
   "execution_count": 7,
   "metadata": {
    "collapsed": false
   },
   "outputs": [
    {
     "data": {
      "text/plain": [
       "['ContentTooShortError',\n",
       " 'FancyURLopener',\n",
       " 'MAXFTPCACHE',\n",
       " 'URLopener',\n",
       " '__all__',\n",
       " '__builtins__',\n",
       " '__doc__',\n",
       " '__file__',\n",
       " '__name__',\n",
       " '__package__',\n",
       " '__version__',\n",
       " '_asciire',\n",
       " '_ftperrors',\n",
       " '_have_ssl',\n",
       " '_hexdig',\n",
       " '_hextochr',\n",
       " '_hostprog',\n",
       " '_is_unicode',\n",
       " '_localhost',\n",
       " '_noheaders',\n",
       " '_nportprog',\n",
       " '_passwdprog',\n",
       " '_portprog',\n",
       " '_queryprog',\n",
       " '_safe_map',\n",
       " '_safe_quoters',\n",
       " '_tagprog',\n",
       " '_thishost',\n",
       " '_typeprog',\n",
       " '_urlopener',\n",
       " '_userprog',\n",
       " '_valueprog',\n",
       " 'addbase',\n",
       " 'addclosehook',\n",
       " 'addinfo',\n",
       " 'addinfourl',\n",
       " 'always_safe',\n",
       " 'base64',\n",
       " 'basejoin',\n",
       " 'c',\n",
       " 'ftpcache',\n",
       " 'ftperrors',\n",
       " 'ftpwrapper',\n",
       " 'getproxies',\n",
       " 'getproxies_environment',\n",
       " 'getproxies_registry',\n",
       " 'i',\n",
       " 'localhost',\n",
       " 'noheaders',\n",
       " 'os',\n",
       " 'pathname2url',\n",
       " 'proxy_bypass',\n",
       " 'proxy_bypass_environment',\n",
       " 'proxy_bypass_registry',\n",
       " 'quote',\n",
       " 'quote_plus',\n",
       " 're',\n",
       " 'reporthook',\n",
       " 'socket',\n",
       " 'splitattr',\n",
       " 'splithost',\n",
       " 'splitnport',\n",
       " 'splitpasswd',\n",
       " 'splitport',\n",
       " 'splitquery',\n",
       " 'splittag',\n",
       " 'splittype',\n",
       " 'splituser',\n",
       " 'splitvalue',\n",
       " 'ssl',\n",
       " 'string',\n",
       " 'sys',\n",
       " 'test1',\n",
       " 'thishost',\n",
       " 'time',\n",
       " 'toBytes',\n",
       " 'unquote',\n",
       " 'unquote_plus',\n",
       " 'unwrap',\n",
       " 'url2pathname',\n",
       " 'urlcleanup',\n",
       " 'urlencode',\n",
       " 'urlopen',\n",
       " 'urlretrieve']"
      ]
     },
     "execution_count": 7,
     "metadata": {},
     "output_type": "execute_result"
    }
   ],
   "source": [
    "dir(urllib)"
   ]
  },
  {
   "cell_type": "code",
   "execution_count": 58,
   "metadata": {
    "collapsed": false
   },
   "outputs": [
    {
     "name": "stdout",
     "output_type": "stream",
     "text": [
      "<h1>An Interesting Title</h1>\n"
     ]
    }
   ],
   "source": [
    "from bs4 import BeautifulSoup\n",
    "html = urllib.urlopen(url)\n",
    "#print type(html.read())\n",
    "bsObj = BeautifulSoup(html.read(), 'html.parser')\n",
    "#print type(html.read())\n",
    "print bsObj.h1"
   ]
  },
  {
   "cell_type": "markdown",
   "metadata": {},
   "source": [
    "print html.read() - 한번 호출하면 없어지나?"
   ]
  },
  {
   "cell_type": "code",
   "execution_count": 49,
   "metadata": {
    "collapsed": false
   },
   "outputs": [
    {
     "name": "stdout",
     "output_type": "stream",
     "text": [
      "<!DOCTYPE html PUBLIC \"-//W3C//DTD XHTML+RDFa 1.0//EN\"\n",
      "  \"http://www.w3.org/MarkUp/DTD/xhtml-rdfa-1.dtd\">\n",
      "<html xmlns=\"http://www.w3.org/1999/xhtml\" xml:lang=\"en\" version=\"XHTML+RDFa 1.0\" dir=\"ltr\"\n",
      "  xmlns:content=\"http://purl.org/rss/1.0/modules/content/\"\n",
      "  xmlns:dc=\"http://purl.org/dc/terms/\"\n",
      "  xmlns:foaf=\"http://xmlns.com/foaf/0.1/\"\n",
      "  xmlns:og=\"http://ogp.me/ns#\"\n",
      "  xmlns:rdfs=\"http://www.w3.org/2000/01/rdf-schema#\"\n",
      "  xmlns:sioc=\"http://rdfs.org/sioc/ns#\"\n",
      "  xmlns:sioct=\"http://rdfs.org/sioc/types#\"\n",
      "  xmlns:skos=\"http://www.w3.org/2004/02/skos/core#\"\n",
      "  xmlns:xsd=\"http://www.w3.org/2001/XMLSchema#\">\n",
      "\n",
      "<head profile=\"http://www.w3.org/1999/xhtml/vocab\">\n",
      "  <meta charset=\"utf-8\" />\n",
      "<link rel=\"shortcut icon\" href=\"http://www.pythonscraping.com/misc/favicon.ico\" type=\"image/vnd.microsoft.icon\" />\n",
      "<meta name=\"viewport\" content=\"width=device-width, initial-scale=1\" />\n",
      "<meta name=\"MobileOptimized\" content=\"width\" />\n",
      "<meta name=\"Generator\" content=\"Drupal 7 (http://drupal.org)\" />\n",
      "<meta name=\"HandheldFriendly\" content=\"true\" />\n",
      "  <title>Page not found | Web Scraping with Python</title>\n",
      "  <style type=\"text/css\" media=\"all\">\n",
      "@import url(\"http://www.pythonscraping.com/modules/system/system.base.css?nhx1dd\");\n",
      "@import url(\"http://www.pythonscraping.com/modules/system/system.menus.css?nhx1dd\");\n",
      "@import url(\"http://www.pythonscraping.com/modules/system/system.messages.css?nhx1dd\");\n",
      "@import url(\"http://www.pythonscraping.com/modules/system/system.theme.css?nhx1dd\");\n",
      "</style>\n",
      "<style type=\"text/css\" media=\"all\">\n",
      "@import url(\"http://www.pythonscraping.com/modules/comment/comment.css?nhx1dd\");\n",
      "@import url(\"http://www.pythonscraping.com/modules/field/theme/field.css?nhx1dd\");\n",
      "@import url(\"http://www.pythonscraping.com/modules/node/node.css?nhx1dd\");\n",
      "@import url(\"http://www.pythonscraping.com/modules/search/search.css?nhx1dd\");\n",
      "@import url(\"http://www.pythonscraping.com/modules/user/user.css?nhx1dd\");\n",
      "@import url(\"http://www.pythonscraping.com/sites/all/modules/views/css/views.css?nhx1dd\");\n",
      "@import url(\"http://www.pythonscraping.com/sites/all/modules/ckeditor/css/ckeditor.css?nhx1dd\");\n",
      "</style>\n",
      "<style type=\"text/css\" media=\"all\">\n",
      "@import url(\"http://www.pythonscraping.com/sites/all/modules/ctools/css/ctools.css?nhx1dd\");\n",
      "</style>\n",
      "<style type=\"text/css\" media=\"all\">\n",
      "@import url(\"http://www.pythonscraping.com/sites/all/themes/skeletontheme/css/skeleton.css?nhx1dd\");\n",
      "@import url(\"http://www.pythonscraping.com/sites/all/themes/skeletontheme/css/style.css?nhx1dd\");\n",
      "@import url(\"http://www.pythonscraping.com/sites/all/themes/skeletontheme/css/buttons.css?nhx1dd\");\n",
      "@import url(\"http://www.pythonscraping.com/sites/all/themes/skeletontheme/css/layout.css?nhx1dd\");\n",
      "@import url(\"http://www.pythonscraping.com/sites/all/themes/skeletontheme/color/colors.css?nhx1dd\");\n",
      "</style>\n",
      "  <script type=\"text/javascript\" src=\"http://www.pythonscraping.com/misc/jquery.js?v=1.4.4\"></script>\n",
      "<script type=\"text/javascript\" src=\"http://www.pythonscraping.com/misc/jquery.once.js?v=1.2\"></script>\n",
      "<script type=\"text/javascript\" src=\"http://www.pythonscraping.com/misc/drupal.js?nhx1dd\"></script>\n",
      "<script type=\"text/javascript\" src=\"http://www.pythonscraping.com/sites/all/themes/skeletontheme/js/jquery.mobilemenu.js?nhx1dd\"></script>\n",
      "<script type=\"text/javascript\">\n",
      "<!--//--><![CDATA[//><!--\n",
      "jQuery(document).ready(function($) { \r\n",
      "\t\r\n",
      "\t$(\"#navigation .content > ul\").mobileMenu({\r\n",
      "\t\tprependTo: \"#navigation\",\r\n",
      "\t\tcombine: false,\r\n",
      "        switchWidth: 760,\r\n",
      "        topOptionText: Drupal.settings.skeletontheme['topoptiontext']\r\n",
      "\t});\r\n",
      "\t\r\n",
      "\t});\n",
      "//--><!]]>\n",
      "</script>\n",
      "<script type=\"text/javascript\" src=\"http://www.pythonscraping.com/sites/all/modules/google_analytics/googleanalytics.js?nhx1dd\"></script>\n",
      "<script type=\"text/javascript\">\n",
      "<!--//--><![CDATA[//><!--\n",
      "(function(i,s,o,g,r,a,m){i[\"GoogleAnalyticsObject\"]=r;i[r]=i[r]||function(){(i[r].q=i[r].q||[]).push(arguments)},i[r].l=1*new Date();a=s.createElement(o),m=s.getElementsByTagName(o)[0];a.async=1;a.src=g;m.parentNode.insertBefore(a,m)})(window,document,\"script\",\"//www.google-analytics.com/analytics.js\",\"ga\");ga(\"create\", \"UA-57871098-1\", {\"cookieDomain\":\"auto\"});ga(\"set\", \"anonymizeIp\", true);ga(\"set\", \"page\", \"/404.html?page=\" + document.location.pathname + document.location.search + \"&from=\" + document.referrer);ga(\"send\", \"pageview\");\n",
      "//--><!]]>\n",
      "</script>\n",
      "<script type=\"text/javascript\">\n",
      "<!--//--><![CDATA[//><!--\n",
      "jQuery.extend(Drupal.settings, {\"basePath\":\"\\/\",\"pathPrefix\":\"\",\"skeletontheme\":{\"topoptiontext\":\"Select a page\"},\"ajaxPageState\":{\"theme\":\"skeletontheme\",\"theme_token\":\"MAY3ZZLbDuY5tgfMQMKE5b3sUAcKQT2jldyLOJ_mJA0\",\"js\":{\"misc\\/jquery.js\":1,\"misc\\/jquery.once.js\":1,\"misc\\/drupal.js\":1,\"sites\\/all\\/themes\\/skeletontheme\\/js\\/jquery.mobilemenu.js\":1,\"0\":1,\"sites\\/all\\/modules\\/google_analytics\\/googleanalytics.js\":1,\"1\":1},\"css\":{\"modules\\/system\\/system.base.css\":1,\"modules\\/system\\/system.menus.css\":1,\"modules\\/system\\/system.messages.css\":1,\"modules\\/system\\/system.theme.css\":1,\"modules\\/comment\\/comment.css\":1,\"modules\\/field\\/theme\\/field.css\":1,\"modules\\/node\\/node.css\":1,\"modules\\/search\\/search.css\":1,\"modules\\/user\\/user.css\":1,\"sites\\/all\\/modules\\/views\\/css\\/views.css\":1,\"sites\\/all\\/modules\\/ckeditor\\/css\\/ckeditor.css\":1,\"sites\\/all\\/modules\\/ctools\\/css\\/ctools.css\":1,\"sites\\/all\\/themes\\/skeletontheme\\/css\\/skeleton.css\":1,\"sites\\/all\\/themes\\/skeletontheme\\/css\\/style.css\":1,\"sites\\/all\\/themes\\/skeletontheme\\/css\\/buttons.css\":1,\"sites\\/all\\/themes\\/skeletontheme\\/css\\/layout.css\":1,\"sites\\/all\\/themes\\/skeletontheme\\/color\\/colors.css\":1}},\"googleanalytics\":{\"trackOutbound\":1,\"trackMailto\":1,\"trackDownload\":1,\"trackDownloadExtensions\":\"7z|aac|arc|arj|asf|asx|avi|bin|csv|doc(x|m)?|dot(x|m)?|exe|flv|gif|gz|gzip|hqx|jar|jpe?g|js|mp(2|3|4|e?g)|mov(ie)?|msi|msp|pdf|phps|png|ppt(x|m)?|pot(x|m)?|pps(x|m)?|ppam|sld(x|m)?|thmx|qtm?|ra(m|r)?|sea|sit|tar|tgz|torrent|txt|wav|wma|wmv|wpd|xls(x|m|b)?|xlt(x|m)|xlam|xml|z|zip\"}});\n",
      "//--><!]]>\n",
      "</script>\n",
      "</head>\n",
      "<body class=\"html not-front not-logged-in one-sidebar sidebar-first page-page page-page-errorhtml\" >\n",
      "  <div id=\"skip-link\">\n",
      "    <a href=\"#main-content\" class=\"element-invisible element-focusable\">Skip to main content</a>\n",
      "  </div>\n",
      "    <div id=\"wrap\">\n",
      "    <div class=\"container\">\n",
      "        \n",
      "                \n",
      "        <div class=\"clear\"></div>\n",
      "        \n",
      "        <!-- #header -->\n",
      "                <div id=\"header\" class=\"sixteen columns clearfix\">   \n",
      "                \n",
      "            <div class=\"inner\">\n",
      "    \n",
      "                                  <a href=\"/\" title=\"Home\" rel=\"home\" id=\"logo\">\n",
      "                    <img src=\"http://www.pythonscraping.com/sites/default/files/lrg_0.jpg\" alt=\"Home\" />\n",
      "                  </a>\n",
      "                                \n",
      "                                <div id=\"name-and-slogan\">\n",
      "                \n",
      "                                        <div id=\"site-name\">\n",
      "                    <a href=\"/\" title=\"Home\" rel=\"home\">Web Scraping with Python</a>\n",
      "                    </div>\n",
      "                                        \n",
      "                                    \n",
      "                </div>\n",
      "                            </div>\n",
      "        </div><!-- /#header -->\n",
      "        \n",
      "                \n",
      "        <div class=\"clear\"></div>\n",
      "        \n",
      "        <!-- #navigation -->\n",
      "        <div id=\"navigation\" class=\"sixteen columns clearfix\">\n",
      "        \n",
      "            <div class=\"menu-header\">\n",
      "                            \t\t\t\t<div class=\"content\">\n",
      "\t\t\t\t                </div>\n",
      "                        </div>\n",
      "            \n",
      "        </div><!-- /#navigation -->\n",
      "        \n",
      "                <!-- #sidebar-first -->\n",
      "        <div id=\"sidebar-first\" class=\"five columns\">\n",
      "              <div class=\"region region-sidebar-first\">\n",
      "    <div id=\"block-block-1\" class=\"block block-block\">\n",
      "\n",
      "    <h2>Buy WSwP Directly from O&#039;Reilly:</h2>\n",
      "  \n",
      "  <div class=\"content\">\n",
      "    <iframe src=\"http://www.oreilly.com/authors/widgets/669.html\" height=\"500px\" width=\"200px\" scrolling=\"no\" frameborder=\"0\"></iframe>  </div>\n",
      "</div>\n",
      "  </div>\n",
      "        </div><!-- /#sidebar-first -->\n",
      "                \n",
      "                <div id=\"content\" class=\"eleven columns\">\n",
      "\t\t        \n",
      "                    \n",
      "                        \n",
      "            <div id=\"main\">\n",
      "            \n",
      "                                \n",
      "                                \n",
      "                                <h1 class=\"title\" id=\"page-title\">\n",
      "                  Page not found                </h1>\n",
      "                                \n",
      "                                \n",
      "                                <div class=\"tabs\">\n",
      "                                  </div>\n",
      "                                \n",
      "                                \n",
      "                                \n",
      "                  <div class=\"region region-content\">\n",
      "    <div id=\"block-system-main\" class=\"block block-system\">\n",
      "\n",
      "    \n",
      "  <div class=\"content\">\n",
      "    The requested page \"/page/error.html\" could not be found.  </div>\n",
      "</div>\n",
      "  </div>\n",
      "                                \n",
      "            </div>\n",
      "        \n",
      "        </div><!-- /#content -->\n",
      "        \n",
      "                \n",
      "        <div class=\"clear\"></div>\n",
      "        \n",
      "                \n",
      "\t</div>\n",
      "        \n",
      "\t<div id=\"footer\" >\n",
      "        <div class=\"container\">\n",
      "        \t<div class=\"sixteen columns clearfix\">\n",
      "        \n",
      "                <div class=\"one_third\">\n",
      "                                </div>\n",
      "                \n",
      "                <div class=\"one_third\">\n",
      "                                </div>\n",
      "                \n",
      "                <div class=\"one_third last\">\n",
      "                                </div>\n",
      "        \n",
      "                <div class=\"clear\"></div>\n",
      "                \n",
      "                                \n",
      "                <div class=\"clear\"></div>\n",
      "                \n",
      "                <div id=\"credits\">\n",
      "                2017                                 Web Scraping with Python<br/>\n",
      "                                &copy; Ryan Mitchell, All Rights Reserved. For questions about reproduction or use of any material on this site, please contact ryan.e.mitchell@gmail.com\n",
      "                </div>\n",
      "        \t</div>\n",
      "        </div>\n",
      "    </div>\n",
      "    \n",
      "</div> <!-- /#wrap -->  </body>\n",
      "</html>\n",
      "\n"
     ]
    }
   ],
   "source": [
    "from urllib import urlopen\n",
    "from urllib2 import HTTPError\n",
    "from bs4 import BeautifulSoup\n",
    "\n",
    "try:\n",
    "    html = urlopen('http://www.pythonscraping.com/page/error.html')\n",
    "    print html.read()\n",
    "except HTTPError as e:\n",
    "    print e"
   ]
  },
  {
   "cell_type": "code",
   "execution_count": 37,
   "metadata": {
    "collapsed": false
   },
   "outputs": [
    {
     "data": {
      "text/plain": [
       "<addinfourl at 79495536 whose fp = <socket._fileobject object at 0x044D81B0>>"
      ]
     },
     "execution_count": 37,
     "metadata": {},
     "output_type": "execute_result"
    }
   ],
   "source": [
    "urlopen('http://www.pythonscraping.com/page/error.html')"
   ]
  },
  {
   "cell_type": "code",
   "execution_count": 33,
   "metadata": {
    "collapsed": false
   },
   "outputs": [
    {
     "name": "stdout",
     "output_type": "stream",
     "text": [
      "<Response [404]>\n"
     ]
    }
   ],
   "source": [
    "import requests\n",
    "print requests.get('http://www.pythonscraping.com/page/error.html')"
   ]
  },
  {
   "cell_type": "code",
   "execution_count": 60,
   "metadata": {
    "collapsed": false
   },
   "outputs": [
    {
     "name": "stdout",
     "output_type": "stream",
     "text": [
      "None\n"
     ]
    }
   ],
   "source": [
    "print bsObj.nonExistentTag"
   ]
  },
  {
   "cell_type": "code",
   "execution_count": 59,
   "metadata": {
    "collapsed": false
   },
   "outputs": [
    {
     "ename": "AttributeError",
     "evalue": "'NoneType' object has no attribute 'someTag'",
     "output_type": "error",
     "traceback": [
      "\u001b[0;31m---------------------------------------------------------------------------\u001b[0m",
      "\u001b[0;31mAttributeError\u001b[0m                            Traceback (most recent call last)",
      "\u001b[0;32m<ipython-input-59-38d09d2cc6b0>\u001b[0m in \u001b[0;36m<module>\u001b[0;34m()\u001b[0m\n\u001b[0;32m----> 1\u001b[0;31m \u001b[1;32mprint\u001b[0m \u001b[0mbs0bj\u001b[0m\u001b[1;33m.\u001b[0m\u001b[0mnonExistentTag\u001b[0m\u001b[1;33m.\u001b[0m\u001b[0msomeTag\u001b[0m\u001b[1;33m\u001b[0m\u001b[0m\n\u001b[0m",
      "\u001b[0;31mAttributeError\u001b[0m: 'NoneType' object has no attribute 'someTag'"
     ]
    }
   ],
   "source": [
    "print bs0bj.nonExistentTag.someTag"
   ]
  },
  {
   "cell_type": "code",
   "execution_count": 61,
   "metadata": {
    "collapsed": false
   },
   "outputs": [
    {
     "name": "stdout",
     "output_type": "stream",
     "text": [
      "Tag was not found\n"
     ]
    },
    {
     "name": "stderr",
     "output_type": "stream",
     "text": [
      "c:\\python27\\lib\\site-packages\\bs4\\element.py:1036: UserWarning: .nonExistingTag is deprecated, use .find(\"nonExisting\") instead.\n",
      "  tag_name, tag_name))\n"
     ]
    }
   ],
   "source": [
    "try:\n",
    "    badContent = bsObj.nonExistingTag.anotherTag\n",
    "except AttributeError as e:\n",
    "    print ('Tag was not found')\n",
    "else:\n",
    "    if BadContent == None :\n",
    "        print('Tag was not found')\n",
    "    else:\n",
    "        print(badContent)"
   ]
  },
  {
   "cell_type": "code",
   "execution_count": 62,
   "metadata": {
    "collapsed": false
   },
   "outputs": [
    {
     "name": "stdout",
     "output_type": "stream",
     "text": [
      "<h1>An Interesting Title</h1>\n"
     ]
    }
   ],
   "source": [
    "from urllib import urlopen\n",
    "from urllib2 import HTTPError\n",
    "from bs4 import BeautifulSoup\n",
    "def getTitle(url):\n",
    "    try:\n",
    "        html = urlopen(url)\n",
    "    except HTTPError as e:\n",
    "        return None\n",
    "    try:\n",
    "        bsObj = BeautifulSoup(html.read(),'html.parser')\n",
    "        title = bsObj.body.h1\n",
    "    except AttributeError as e:\n",
    "        return None\n",
    "    return title\n",
    "\n",
    "title = getTitle('http://www.pythonscraping.com/pages/page1.html')\n",
    "if title == None:\n",
    "    print 'Title could not be found'\n",
    "else:\n",
    "    print(title)"
   ]
  },
  {
   "cell_type": "code",
   "execution_count": null,
   "metadata": {
    "collapsed": true
   },
   "outputs": [],
   "source": []
  }
 ],
 "metadata": {
  "kernelspec": {
   "display_name": "Python 2",
   "language": "python",
   "name": "python2"
  },
  "language_info": {
   "codemirror_mode": {
    "name": "ipython",
    "version": 2
   },
   "file_extension": ".py",
   "mimetype": "text/x-python",
   "name": "python",
   "nbconvert_exporter": "python",
   "pygments_lexer": "ipython2",
   "version": "2.7.13"
  }
 },
 "nbformat": 4,
 "nbformat_minor": 2
}
